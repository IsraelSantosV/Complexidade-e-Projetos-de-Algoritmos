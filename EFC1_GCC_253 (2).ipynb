{
  "nbformat": 4,
  "nbformat_minor": 0,
  "metadata": {
    "colab": {
      "name": "EFC1_GCC_253.ipynb",
      "provenance": [],
      "collapsed_sections": [
        "J3d6JlRUxREN",
        "kPNpzNYwkKAO"
      ],
      "toc_visible": true
    },
    "kernelspec": {
      "name": "python3",
      "display_name": "Python 3"
    },
    "language_info": {
      "name": "python"
    }
  },
  "cells": [
    {
      "cell_type": "markdown",
      "source": [
        "# EFC1 GCC253 - Complexidade e Projeto de Algoritmos\n",
        "\n",
        "\n",
        "> **Prof.: Douglas H. S. Abreu**\n",
        "\n",
        "\n",
        "**Aluno**: Israel Santos Vieira, Mateus de Oliveira Peternelli\n",
        "\n",
        "**Matricula**: 201820268, 201820283\n",
        "\n",
        "**Turma**: 10A\n",
        "\n",
        "Link do repositório GitHub: "
      ],
      "metadata": {
        "id": "XAdlKnDBj5uB"
      }
    },
    {
      "cell_type": "markdown",
      "source": [
        "# Importações e Variáveis globais"
      ],
      "metadata": {
        "id": "J3d6JlRUxREN"
      }
    },
    {
      "cell_type": "code",
      "source": [
        "import numpy as np\n",
        "import time\n",
        "import matplotlib.pyplot as plt\n",
        "\n",
        "A_ordenado = np.array(range(5, 1000, 5))\n",
        "A_decrescente = np.array(range(1000, 5, -5))\n",
        "A_aleatorio = np.random.randint(5, 1000, (200))\n",
        "tamanho_analise = 100"
      ],
      "metadata": {
        "id": "Ur1DVGQAxac4"
      },
      "execution_count": 13,
      "outputs": []
    },
    {
      "cell_type": "markdown",
      "source": [
        "# Funções de Ordenação\n",
        "\n",
        "> Utilize este espaço para definir as funções de ordenação vista em sala de aula\n",
        "\n"
      ],
      "metadata": {
        "id": "kPNpzNYwkKAO"
      }
    },
    {
      "cell_type": "markdown",
      "source": [
        "##  Insertion Sort\n"
      ],
      "metadata": {
        "id": "nEw1UEsmoKMg"
      }
    },
    {
      "cell_type": "code",
      "source": [
        "def insertionSort(arranjo):\n",
        "  tempo_inicial = time.time()\n",
        "  comparacoes = 1\n",
        "  for j in range (1, len(arranjo)):\n",
        "    comparacoes += 1\n",
        "    chave = arranjo[j]\n",
        "    i = j-1\n",
        "    \n",
        "    while i >=0 and arranjo[i] > chave:\n",
        "      comparacoes += 1\n",
        "      arranjo[i+1] = arranjo[i]\n",
        "      i = i-1\n",
        "    arranjo[i+1] = chave\n",
        "\n",
        "  tempo_execucao = time.time() - tempo_inicial\n",
        "  return arranjo, tempo_execucao, comparacoes"
      ],
      "metadata": {
        "id": "kbOrhdB-j_px"
      },
      "execution_count": 14,
      "outputs": []
    },
    {
      "cell_type": "markdown",
      "source": [
        "##  Merge Sort\n"
      ],
      "metadata": {
        "id": "9a-wJwU-wtmQ"
      }
    },
    {
      "cell_type": "code",
      "source": [
        "def mergeSort(arranjo):\n",
        "  tempo_inicial = time.time()\n",
        "  comparacoes = 1\n",
        "  if len(arranjo) > 1:\n",
        "        meio = len(arranjo) // 2\n",
        "        esquerda = arranjo[:meio]\n",
        "        direita = arranjo[meio:]\n",
        "\n",
        "        mergeSort(esquerda)\n",
        "        mergeSort(direita)\n",
        "\n",
        "        i = 0\n",
        "        j = 0\n",
        "        k = 0\n",
        "        \n",
        "        comparacoes += 1\n",
        "        while i < len(esquerda) and j < len(direita):\n",
        "            if esquerda[i] <= direita[j]:\n",
        "              arranjo[k] = esquerda[i]\n",
        "              i += 1\n",
        "            else:\n",
        "              arranjo[k] = direita[j]\n",
        "              j += 1\n",
        "\n",
        "            k += 1\n",
        "            comparacoes += 1\n",
        "\n",
        "        while i < len(esquerda):\n",
        "          comparacoes += 1\n",
        "          arranjo[k] = esquerda[i]\n",
        "          i += 1\n",
        "          k += 1\n",
        "\n",
        "        while j < len(direita):\n",
        "          comparacoes += 1\n",
        "          arranjo[k] = direita[j]\n",
        "          j += 1\n",
        "          k += 1\n",
        "  \n",
        "  tempo_execucao = time.time() - tempo_inicial\n",
        "  return arranjo, tempo_execucao, comparacoes"
      ],
      "metadata": {
        "id": "8cgIJ_4EwbPN"
      },
      "execution_count": 15,
      "outputs": []
    },
    {
      "cell_type": "markdown",
      "source": [
        "##  Selection Sort\n"
      ],
      "metadata": {
        "id": "8dWpeYUvw-wU"
      }
    },
    {
      "cell_type": "code",
      "source": [
        "def selectionSort(arranjo):\n",
        "  tempo_inicial = time.time()\n",
        "  comparacoes = 1\n",
        "  for step in range(len(arranjo)):\n",
        "        min_idx = step\n",
        "\n",
        "        comparacoes += 1\n",
        "        for i in range(step + 1, len(arranjo)):\n",
        "            if arranjo[i] < arranjo[min_idx]:\n",
        "              comparacoes += 1\n",
        "              min_idx = i\n",
        "         \n",
        "        (arranjo[step], arranjo[min_idx]) = (arranjo[min_idx], arranjo[step])\n",
        "  \n",
        "  tempo_execucao = time.time() - tempo_inicial\n",
        "  return arranjo, tempo_execucao, comparacoes"
      ],
      "metadata": {
        "id": "vNgUDShawygu"
      },
      "execution_count": 16,
      "outputs": []
    },
    {
      "cell_type": "markdown",
      "source": [
        "##  Bubble Sort\n"
      ],
      "metadata": {
        "id": "zNI1kX0yyDrs"
      }
    },
    {
      "cell_type": "code",
      "source": [
        "def bubbleSort(arranjo):\n",
        "  tempo_inicial = time.time()\n",
        "  comparacoes = 1\n",
        "\n",
        "  alterado = True\n",
        "  for i in range(len(arranjo)-1):\n",
        "    if alterado:\n",
        "      comparacoes += 1\n",
        "      alterado = False\n",
        "      for j in range(len(arranjo - i)-1):\n",
        "        comparacoes += 1\n",
        "        if arranjo[j] > arranjo[j+1]:\n",
        "          comparacoes += 1\n",
        "          temp = arranjo[j+1]\n",
        "          arranjo[j+1] = arranjo[j]\n",
        "          arranjo[j] = temp\n",
        "          alterado = True\n",
        "\n",
        "  tempo_execucao = time.time() - tempo_inicial\n",
        "  return arranjo, tempo_execucao, comparacoes"
      ],
      "metadata": {
        "id": "6X_zk1yWxMQS"
      },
      "execution_count": 44,
      "outputs": []
    },
    {
      "cell_type": "markdown",
      "source": [
        "## Heap Sort"
      ],
      "metadata": {
        "id": "vk4vOTkKyLB-"
      }
    },
    {
      "cell_type": "code",
      "source": [
        "def heapify(arranjo, n, i):\n",
        "  largest = i\n",
        "  l = 2 * i + 1\n",
        "  r = 2 * i + 2\n",
        "    \n",
        "  if l < n and arranjo[i] < arranjo[l]:\n",
        "    largest = l \n",
        "\n",
        "  if r < n and arranjo[largest] < arranjo[r]:\n",
        "    largest = r \n",
        "    \n",
        "  if largest != i: \n",
        "    arranjo[i],arranjo[largest] = arranjo[largest],arranjo[i]\n",
        "    heapify(arranjo, n, largest)\n",
        "\n",
        "def heapSort(arranjo):\n",
        "  tempo_inicial = time.time()\n",
        "  comparacoes = 1\n",
        "  n = len(arranjo)\n",
        "  \n",
        "  for i in range(n // 2 - 1, -1, -1):\n",
        "    heapify(arranjo, n, i)\n",
        "    comparacoes += 3\n",
        "    \n",
        "  for i in range(n-1, 0, -1): \n",
        "    arranjo[i], arranjo[0] = arranjo[0], arranjo[i]\n",
        "    heapify(arranjo, i, 0)\n",
        "    comparacoes += 3\n",
        "  \n",
        "  tempo_execucao = time.time() - tempo_inicial\n",
        "  return arranjo, tempo_execucao, comparacoes"
      ],
      "metadata": {
        "id": "39a7xXzLyH9g"
      },
      "execution_count": 18,
      "outputs": []
    },
    {
      "cell_type": "markdown",
      "source": [
        "## Quick Sort\n",
        "\n",
        "> pivo = *A[A-comprimento]*"
      ],
      "metadata": {
        "id": "fFiGho5CyU3t"
      }
    },
    {
      "cell_type": "code",
      "source": [
        "def partition(arranjo, inicio, fim, comparacoes):\n",
        "  pivo = arranjo[fim]\n",
        "  i = inicio - 1\n",
        "  for j in range(inicio, fim - 1):\n",
        "    if arranjo[j] <= pivo:\n",
        "      comparacoes += 1\n",
        "      i = i + 1\n",
        "      arranjo[i], arranjo[j] = arranjo[j], arranjo[i]\n",
        "  \n",
        "  arranjo[i+1], arranjo[fim] = arranjo[fim], arranjo[i+1]\n",
        "  return (i + 1), comparacoes\n",
        "\n",
        "def quickSort(arranjo, inicio, fim, comparacoes):\n",
        "  if inicio < fim:\n",
        "    comparacoes += 1\n",
        "    meio, comparacoes = partition(arranjo, inicio, fim, comparacoes)\n",
        "    quickSort(arranjo,inicio,meio-1, comparacoes)\n",
        "    quickSort(arranjo,meio+1,fim, comparacoes)\n",
        "\n",
        "  return arranjo, comparacoes\n",
        "\n",
        "def quickSortTotal(arranjo):\n",
        "  tempo_inicial = time.time()\n",
        "  comparacoes = 1\n",
        "\n",
        "  arranjo, comparacoes = quickSort(arranjo, 0, len(arranjo)-1, comparacoes)\n",
        "  tempo_execucao = time.time() - tempo_inicial\n",
        "  return arranjo, tempo_execucao, comparacoes"
      ],
      "metadata": {
        "id": "1Ie_N5CRyKY7"
      },
      "execution_count": 38,
      "outputs": []
    },
    {
      "cell_type": "markdown",
      "source": [
        "# Questões"
      ],
      "metadata": {
        "id": "VomdAnCrzEv1"
      }
    },
    {
      "cell_type": "markdown",
      "source": [
        "\n",
        "\n",
        "1.   Dado um conjunto de arranjos ***A[5,...,1000, passo=5]***\n",
        "\n",
        "> a) Defina o melhor e pior caso para cada um dos algoritmos definidos acima, crie vetores ***A*** para estes casos e faça a comparação gráficamente também com casos aleatórios (plote um gráfico para cada algoritmo). Conte o numero de comparações realizadas para cada uma das execuções.\n",
        "\n",
        "> b) Repita o procedimento acima. Porém compare os algoritmos para pior e melhor caso e também casos aleatórios.\n",
        "\n",
        "> c) Qual é o comportamento assintótico para cada um dos algorítmos acima (melhor caso e pior caso, se puder, analise também em casos aleatórios)\n",
        "\n",
        "\n",
        "\n",
        "**Obs.:** para os algoritmos QuickSort e Merge Sort mostre apenas um melhor e um pior caso. faça a comparação com os demais métodos com o conjunto ***A*** apenas em casos aleatórios.\n",
        "\n",
        "\n",
        "\n"
      ],
      "metadata": {
        "id": "3QKV979kzItD"
      }
    },
    {
      "cell_type": "markdown",
      "source": [
        "## Funções auxiliares"
      ],
      "metadata": {
        "id": "XK5paqWEpxLY"
      }
    },
    {
      "cell_type": "code",
      "source": [
        "# Analise Assintótica\n",
        "def executarAnalise(qtd_vezes, algoritmo, arranjo):\n",
        "  aumento_entrada = 20\n",
        "  entrada = aumento_entrada\n",
        "  analise_tempo = []\n",
        "  analise_comparacoes = []\n",
        "\n",
        "  for i in range(qtd_vezes):\n",
        "    # Criação do arranjo e ordenação\n",
        "    entrada += aumento_entrada\n",
        "    arranjo_ordenado, tempo_execucao, comparacoes = algoritmo(arranjo)\n",
        "    analise_tempo.append(tempo_execucao)\n",
        "    analise_comparacoes.append(comparacoes)\n",
        "\n",
        "  return analise_tempo, analise_comparacoes"
      ],
      "metadata": {
        "id": "C5J-vPtUnJwF"
      },
      "execution_count": 20,
      "outputs": []
    },
    {
      "cell_type": "code",
      "source": [
        "# Obter o gráfico e a quantidade de comparações da análise\n",
        "def resultadoAnalise(algoritmo, arranjoPiorCaso, arranjoMelhorCaso, arranjoCasoAleatorio, titulo):\n",
        "  pior_tempo, pior_comparacoes = executarAnalise(tamanho_analise, algoritmo, arranjoPiorCaso)\n",
        "  melhor_tempo, melhor_comparacoes = executarAnalise(tamanho_analise, algoritmo, arranjoMelhorCaso)\n",
        "  aleatorio_tempo, aleatorio_comparacoes = executarAnalise(tamanho_analise, algoritmo, arranjoCasoAleatorio)\n",
        "\n",
        "  # Plotagem do gráfico\n",
        "  plt.rcParams[\"figure.figsize\"] = [7.50, 3.50]\n",
        "  plt.rcParams[\"figure.autolayout\"] = True\n",
        "  line1 = plt.plot(pior_tempo, linewidth=2.0, label=\"Pior caso\")\n",
        "  line2 = plt.plot(melhor_tempo, linewidth=2.0, label=\"Melhor caso\")\n",
        "  line3 = plt.plot(aleatorio_tempo, linewidth=2.0, label=\"Caso aleatório\")\n",
        "  plt.title(f'Análise Assintótica - {titulo}')\n",
        "  plt.ylabel('Tempo de execução')\n",
        "  plt.xlabel('Quantidade de análises')\n",
        "  leg = plt.legend(loc='upper left')\n",
        "  plt.show()\n",
        "\n",
        "  return (int)(np.mean(pior_comparacoes)), (int)(np.mean(melhor_comparacoes)), (int)(np.mean(aleatorio_comparacoes))"
      ],
      "metadata": {
        "id": "bY9OVm2-nxG-"
      },
      "execution_count": 52,
      "outputs": []
    },
    {
      "cell_type": "markdown",
      "source": [
        "## Questão 1 - Letra A e B"
      ],
      "metadata": {
        "id": "a40JiDi7p6_n"
      }
    },
    {
      "cell_type": "markdown",
      "source": [
        "### Insertion Sort - Análise"
      ],
      "metadata": {
        "id": "AlHmruPzqKhU"
      }
    },
    {
      "cell_type": "code",
      "source": [
        "# Melhor caso: vetor já ordenado\n",
        "melhorCaso = A_ordenado\n",
        "# Pior caso: vetor em ordem decrescente\n",
        "piorCaso = A_decrescente\n",
        "\n",
        "# Plotagem\n",
        "p_comp, m_comp, a_comp = resultadoAnalise(insertionSort, piorCaso, melhorCaso, A_aleatorio, \"InsertionSort\")\n",
        "print(f\"[Comparações - Média]: Pior({p_comp}) Melhor({m_comp}) Aleatório({a_comp})\")"
      ],
      "metadata": {
        "id": "pKIsOJ8GiWw8"
      },
      "execution_count": null,
      "outputs": []
    },
    {
      "cell_type": "markdown",
      "source": [
        "### Merge Sort - Análise"
      ],
      "metadata": {
        "id": "K98j7CrFupfy"
      }
    },
    {
      "cell_type": "code",
      "source": [
        "# Melhor caso: vetor já ordenado\n",
        "melhorCaso = A_ordenado\n",
        "# Pior caso: vetor em ordem decrescente\n",
        "piorCaso = A_decrescente\n",
        "\n",
        "# Plotagem\n",
        "p_comp, m_comp, a_comp = resultadoAnalise(mergeSort, piorCaso, melhorCaso, A_aleatorio, \"MergeSort\")\n",
        "print(f\"[Comparações - Média]: Pior({p_comp}) Melhor({m_comp}) Aleatório({a_comp})\")"
      ],
      "metadata": {
        "id": "-tnmCqCiu1yd"
      },
      "execution_count": null,
      "outputs": []
    },
    {
      "cell_type": "markdown",
      "source": [
        "### Selection Sort - Análise"
      ],
      "metadata": {
        "id": "taH28AZvvLOd"
      }
    },
    {
      "cell_type": "code",
      "source": [
        "# Melhor caso: vetor já ordenado\n",
        "melhorCaso = A_ordenado\n",
        "# Pior caso: vetor em ordem decrescente\n",
        "piorCaso = A_decrescente\n",
        "\n",
        "# Plotagem\n",
        "p_comp, m_comp, a_comp = resultadoAnalise(selectionSort, piorCaso, melhorCaso, A_aleatorio, \"SelectionSort\")\n",
        "print(f\"[Comparações - Média]: Pior({p_comp}) Melhor({m_comp}) Aleatório({a_comp})\")"
      ],
      "metadata": {
        "id": "kx-B29l8vcg6"
      },
      "execution_count": null,
      "outputs": []
    },
    {
      "cell_type": "markdown",
      "source": [
        "### Bubble Sort - Análise"
      ],
      "metadata": {
        "id": "7nzvQSBGv3NI"
      }
    },
    {
      "cell_type": "code",
      "source": [
        "# Melhor caso: vetor já ordenado\n",
        "melhorCaso = A_ordenado\n",
        "# Pior caso: vetor em ordem decrescente\n",
        "piorCaso = A_decrescente\n",
        "\n",
        "# Plotagem\n",
        "p_comp, m_comp, a_comp = resultadoAnalise(bubbleSort, piorCaso, melhorCaso, A_aleatorio, \"BubbleSort\")\n",
        "print(f\"[Comparações - Média]: Pior({p_comp}) Melhor({m_comp}) Aleatório({a_comp})\")"
      ],
      "metadata": {
        "id": "hvfKMEVHvsvU"
      },
      "execution_count": null,
      "outputs": []
    },
    {
      "cell_type": "markdown",
      "source": [
        "### Heap Sort - Análise"
      ],
      "metadata": {
        "id": "QLJPfLoTv54s"
      }
    },
    {
      "cell_type": "code",
      "source": [
        "# Melhor caso: vetor já ordenado\n",
        "melhorCaso = A_ordenado\n",
        "# Pior caso: vetor em ordem decrescente\n",
        "piorCaso = A_decrescente\n",
        "\n",
        "# Plotagem\n",
        "p_comp, m_comp, a_comp = resultadoAnalise(heapSort, piorCaso, melhorCaso, A_aleatorio, \"HeapSort\")\n",
        "print(f\"[Comparações - Média]: Pior({p_comp}) Melhor({m_comp}) Aleatório({a_comp})\")"
      ],
      "metadata": {
        "id": "7ScAqtV3v9nT"
      },
      "execution_count": null,
      "outputs": []
    },
    {
      "cell_type": "markdown",
      "source": [
        "### Quick Sort - Análise"
      ],
      "metadata": {
        "id": "26PTUlP9wAhQ"
      }
    },
    {
      "cell_type": "code",
      "source": [
        "# Melhor caso: vetor já ordenado\n",
        "melhorCaso = A_ordenado\n",
        "# Pior caso: vetor em ordem decrescente\n",
        "piorCaso = A_decrescente\n",
        "\n",
        "# Plotagem\n",
        "p_comp, m_comp, a_comp = resultadoAnalise(quickSortTotal, piorCaso, melhorCaso, A_aleatorio, \"QuickSort\")\n",
        "print(f\"[Comparações - Média]: Pior({p_comp}) Melhor({m_comp}) Aleatório({a_comp})\")"
      ],
      "metadata": {
        "id": "gBF8gMdBwDaq"
      },
      "execution_count": null,
      "outputs": []
    },
    {
      "cell_type": "markdown",
      "source": [
        "## Questão 1 - Letra C"
      ],
      "metadata": {
        "id": "z1-ioZY_BZqf"
      }
    },
    {
      "cell_type": "markdown",
      "source": [
        "Tanto no Merge Sort, Quick Sort e Heap Sort a complexidade será de O(n log n) no pior caso e Ω(n²) no seu melhor caso, pois cada vez que os códigos fazem uma ordenação é necessário que o arranjo seja dividido ao meio.\n",
        "\n",
        "Insetion Sort e o bubble sort é O(n²) no seu pior caso e Ω(n²) no seu melhor caso pois em seu segundo loop o arranjo ira ser percorrido 2 vezes, ou seja, se n equivale ao tamanho do arranjo então ele será percorrido n * n = n². Porem no seu melhor caso ele será  Ω(n)."
      ],
      "metadata": {
        "id": "cui8RgDsBnVj"
      }
    },
    {
      "cell_type": "markdown",
      "source": [
        "## Questão 2"
      ],
      "metadata": {
        "id": "vf66I6XgvlFy"
      }
    },
    {
      "cell_type": "markdown",
      "source": [
        "2.   Desenvolda uma versão aleatorizada do QUICKSORT (pivo aleatório) e compare com a versão apresentada em sala de aula e definida acima.\n",
        "\n"
      ],
      "metadata": {
        "id": "9hhEkQam21NC"
      }
    },
    {
      "cell_type": "code",
      "source": [
        "def partition_random(arranjo, inicio, fim, comparacoes):\n",
        "  pivo_index = np.random.randint(inicio, fim)\n",
        "  pivo = arranjo[pivo_index]\n",
        "\n",
        "  i = inicio - 1\n",
        "  for j in range(inicio, fim - 1):\n",
        "    if arranjo[j] <= pivo:\n",
        "      comparacoes += 1\n",
        "      i = i + 1\n",
        "      arranjo[i], arranjo[j] = arranjo[j], arranjo[i]\n",
        "  \n",
        "  arranjo[i+1], arranjo[fim] = arranjo[fim], arranjo[i+1]\n",
        "  return (i + 1), comparacoes\n",
        "\n",
        "def quickSort_random(arranjo, inicio, fim, comparacoes):\n",
        "  if inicio < fim:\n",
        "    comparacoes += 1\n",
        "    meio, comparacoes = partition_random(arranjo, inicio, fim, comparacoes)\n",
        "    quickSort_random(arranjo,inicio,meio-1, comparacoes)\n",
        "    quickSort_random(arranjo,meio+1,fim, comparacoes)\n",
        "\n",
        "  return arranjo, comparacoes\n",
        "\n",
        "def quickSortAleatorio(arranjo):\n",
        "  tempo_inicial = time.time()\n",
        "  comparacoes = 1\n",
        "\n",
        "  arranjo, comparacoes = quickSort_random(arranjo, 0, len(arranjo)-1, comparacoes)\n",
        "  tempo_execucao = time.time() - tempo_inicial\n",
        "  return arranjo, tempo_execucao, comparacoes"
      ],
      "metadata": {
        "id": "nBfs279_1Vko"
      },
      "execution_count": 49,
      "outputs": []
    },
    {
      "cell_type": "code",
      "source": [
        "# Melhor caso: vetor já ordenado\n",
        "melhorCaso = A_ordenado\n",
        "# Pior caso: vetor em ordem decrescente\n",
        "piorCaso = A_decrescente\n",
        "\n",
        "t1 = \"QuickSort - Pivô no fim\"\n",
        "t2 = \"QuickSort - Pivô Aleatório\"\n",
        "# Plotagem\n",
        "p_comp, m_comp, a_comp = resultadoAnalise(quickSortAleatorio, piorCaso, melhorCaso, A_aleatorio, t1)\n",
        "p2_comp, m2_comp, a2_comp = resultadoAnalise(quickSortTotal, piorCaso, melhorCaso, A_aleatorio, t2)\n",
        "print(f\"[Comparações (Pivô Aleatório) - Média]: Pior({p_comp}) Melhor({m_comp}) Aleatório({a_comp})\")\n",
        "print(f\"[Comparações (Pivô no fim) - Média]: Pior({p2_comp}) Melhor({m2_comp}) Aleatório({a2_comp})\")"
      ],
      "metadata": {
        "colab": {
          "base_uri": "https://localhost:8080/",
          "height": 540
        },
        "id": "C_vaXvFax85L",
        "outputId": "89c70889-47b5-481c-df3b-07d54684cc52"
      },
      "execution_count": 54,
      "outputs": [
        {
          "output_type": "display_data",
          "data": {
            "text/plain": [
              "<Figure size 540x252 with 1 Axes>"
            ],
            "image/png": "[encoded data removed]"
          },
          "metadata": {
            "needs_background": "light"
          }
        },
        {
          "output_type": "display_data",
          "data": {
            "text/plain": [
              "<Figure size 540x252 with 1 Axes>"
            ],
            "image/png": "[encoded data removed]"
          },
          "metadata": {
            "needs_background": "light"
          }
        },
        {
          "output_type": "stream",
          "name": "stdout",
          "text": [
            "[Comparações (Pivô Aleatório) - Média]: Pior(97) Melhor(102) Aleatório(107)\n",
            "[Comparações (Pivô no fim) - Média]: Pior(103) Melhor(107) Aleatório(104)\n"
          ]
        }
      ]
    }
  ]
}